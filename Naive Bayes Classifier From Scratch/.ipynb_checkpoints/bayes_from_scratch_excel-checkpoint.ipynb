{
 "cells": [
  {
   "cell_type": "code",
   "execution_count": 9,
   "metadata": {},
   "outputs": [],
   "source": [
    "loc = ('Data.xlsx') \n",
    "  \n",
    "import pandas as pd\n",
    "\n",
    "ls = pd.ExcelFile(loc)\n",
    "df1 = pd.read_excel(ls, 'Train')\n",
    "df = pd.DataFrame(df1, columns= ['Feature1','Feature2', 'Class'])\n",
    "df = df.values.tolist()"
   ]
  },
  {
   "cell_type": "code",
   "execution_count": 10,
   "metadata": {},
   "outputs": [],
   "source": [
    "import numpy as np\n",
    "\n",
    "def calculate_mean_per_class(category , column):\n",
    "    length = len(category)\n",
    "    summation = 0.0\n",
    "    \n",
    "    for i in range(len(category)):\n",
    "        summation += float((category[i])[column])\n",
    "        \n",
    "    return summation/length    \n",
    "\n",
    "def calculate_variance_per_class(category , column , mean):\n",
    "    length = len(category)\n",
    "    summation = 0.0\n",
    "    \n",
    "    for i in range(len(category)):\n",
    "        squared = float((category[i])[column]) - mean\n",
    "        summation += (squared*squared)\n",
    "        \n",
    "    return summation/length    \n",
    "\n",
    "def gaussian_pdf(x , mean, variance):\n",
    "    p = 1/(np.sqrt(2*np.pi*variance)) * np.exp((-(x-mean)**2)/(2*variance))\n",
    "#     print(\"gaussian\", p)\n",
    "    return p"
   ]
  },
  {
   "cell_type": "code",
   "execution_count": 11,
   "metadata": {},
   "outputs": [],
   "source": [
    "data_rows = df\n",
    "feature_count = 2\n",
    "class_count = 2\n",
    "entry_count = len(df)\n",
    "\n",
    "split_row = 50\n",
    "\n",
    "\n",
    "category_list = []\n",
    "\n",
    "# class count, feature count\n",
    "mean = np.zeros((class_count,feature_count),dtype=np.float32)\n",
    "variance =  np.zeros((class_count,feature_count),dtype=np.float32)\n",
    "\n",
    "category_list.append(data_rows[:split_row]) \n",
    "category_list.append(data_rows[(split_row):])\n",
    "\n",
    "# first_category =  data_rows[:split_row]\n",
    "# second_category = data_rows[(split_row):]\n",
    "\n",
    "# print(len(data_rows) ,len(first_category) ,len(second_category), len(category_list))\n",
    "\n",
    "# calculate mean, variance for all classes and features\n",
    "for i in range(class_count):\n",
    "    for j in range(feature_count):\n",
    "        mean[i][j] = calculate_mean_per_class(category_list[i], j)\n",
    "        variance[i][j] = calculate_variance_per_class(category_list[i], j, mean[i][j])\n",
    "\n",
    "        "
   ]
  },
  {
   "cell_type": "code",
   "execution_count": 12,
   "metadata": {},
   "outputs": [
    {
     "name": "stdout",
     "output_type": "stream",
     "text": [
      "0.96\n"
     ]
    }
   ],
   "source": [
    "ls = pd.ExcelFile(loc)\n",
    "df2 = pd.read_excel(ls, 'Test')\n",
    "df = pd.DataFrame(df2, columns= ['Feature 1','Feature 2', 'Class'])\n",
    "data_test = df.values.tolist()\n",
    "\n",
    "right = 0\n",
    "wrong = 0\n",
    "\n",
    "for idx in range(len(data_test)):\n",
    "    features = data_test[idx][:-1]\n",
    "    class_type = data_test[idx][-1]\n",
    "    max_prob = 0.0\n",
    "    max_class = 0\n",
    "    \n",
    "    for i in range(class_count):\n",
    "        total_prob = 1.0\n",
    "        \n",
    "        # naive bayes formulae\n",
    "        for j in range(feature_count):\n",
    "            total_prob = total_prob * gaussian_pdf(float(features[j]), mean[i][j], variance[i][j])\n",
    "        \n",
    "        # total probability\n",
    "        total_prob = total_prob * (len(category_list[i])/entry_count)\n",
    "        \n",
    "        if max_prob < total_prob:\n",
    "            max_prob = total_prob\n",
    "            max_class = i + 1\n",
    "#             print(idx, max_prob, total_prob, max_class, class_type)    \n",
    "            \n",
    "        \n",
    "    if max_class == int(class_type):\n",
    "        right += 1\n",
    "    else:\n",
    "        wrong += 1\n",
    "\n",
    "\n",
    "accuracy = right/(right+wrong)\n",
    "print(accuracy)"
   ]
  },
  {
   "cell_type": "code",
   "execution_count": null,
   "metadata": {},
   "outputs": [],
   "source": []
  }
 ],
 "metadata": {
  "kernelspec": {
   "display_name": "Python 3",
   "language": "python",
   "name": "python3"
  },
  "language_info": {
   "codemirror_mode": {
    "name": "ipython",
    "version": 3
   },
   "file_extension": ".py",
   "mimetype": "text/x-python",
   "name": "python",
   "nbconvert_exporter": "python",
   "pygments_lexer": "ipython3",
   "version": "3.7.4"
  }
 },
 "nbformat": 4,
 "nbformat_minor": 2
}
