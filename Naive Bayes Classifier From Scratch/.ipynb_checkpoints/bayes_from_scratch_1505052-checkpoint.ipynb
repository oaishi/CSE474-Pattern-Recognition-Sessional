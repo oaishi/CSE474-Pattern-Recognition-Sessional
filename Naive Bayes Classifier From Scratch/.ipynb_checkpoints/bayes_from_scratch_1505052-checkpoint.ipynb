{
 "cells": [
  {
   "cell_type": "code",
   "execution_count": 15,
   "metadata": {},
   "outputs": [],
   "source": [
    "file = open('Train.txt','r')\n",
    "data = file.readlines()\n",
    "file.close()"
   ]
  },
  {
   "cell_type": "code",
   "execution_count": 16,
   "metadata": {},
   "outputs": [],
   "source": [
    "import numpy as np\n",
    "\n",
    "def calculate_mean_per_class(category , column):\n",
    "    length = len(category)\n",
    "    summation = 0.0\n",
    "    \n",
    "    for i in range(len(category)):\n",
    "        summation += float((category[i]).split()[column])\n",
    "        \n",
    "    return summation/length    \n",
    "\n",
    "def calculate_variance_per_class(category , column , mean):\n",
    "    length = len(category)\n",
    "    summation = 0.0\n",
    "    \n",
    "    for i in range(len(category)):\n",
    "        squared = float((category[i]).split()[column]) - mean\n",
    "        summation += (squared*squared)\n",
    "        \n",
    "    return summation/length    \n",
    "\n",
    "def gaussian_pdf(x , mean, variance):\n",
    "    p = 1/(np.sqrt(2*np.pi*variance)) * np.exp((-(x-mean)**2)/(2*variance))\n",
    "#     print(\"gaussian\", p)\n",
    "    return p"
   ]
  },
  {
   "cell_type": "code",
   "execution_count": 17,
   "metadata": {},
   "outputs": [
    {
     "name": "stdout",
     "output_type": "stream",
     "text": [
      "3 3 300\n",
      "200\n"
     ]
    }
   ],
   "source": [
    "data_rows = data[1:]\n",
    "feature_count = int((data[0].split())[0])\n",
    "class_count = int((data[0].split())[1])\n",
    "entry_count = int((data[0].split())[2])\n",
    "\n",
    "print(feature_count,class_count,entry_count)\n",
    "split_row = 0\n",
    "\n",
    "for data_item in range(int(entry_count)):\n",
    "    if (data_rows[data_item].split())[-1] == '3':\n",
    "        print(data_item)\n",
    "        split_row = data_item\n",
    "        break\n",
    "\n",
    "category_list = []\n",
    "\n",
    "# class count, feature count\n",
    "mean = np.zeros((class_count,feature_count),dtype=np.float32)\n",
    "variance =  np.zeros((class_count,feature_count),dtype=np.float32)\n",
    "\n",
    "category_list.append(data_rows[0:100]) \n",
    "category_list.append(data_rows[100:200])\n",
    "category_list.append(data_rows[:-100])\n",
    "\n",
    "# first_category =  data_rows[:split_row]\n",
    "# second_category = data_rows[(split_row):]\n",
    "\n",
    "# print(len(data_rows) ,len(first_category) ,len(second_category), len(category_list))\n",
    "\n",
    "# # calculate mean, variance for all classes and features\n",
    "for i in range(class_count):\n",
    "    for j in range(feature_count):\n",
    "        mean[i][j] = calculate_mean_per_class(category_list[i], j)\n",
    "        variance[i][j] = calculate_variance_per_class(category_list[i], j, mean[i][j])\n",
    "\n",
    "        "
   ]
  },
  {
   "cell_type": "code",
   "execution_count": 23,
   "metadata": {},
   "outputs": [
    {
     "name": "stdout",
     "output_type": "stream",
     "text": [
      "64 ['10.5275', '7.3832', '8.7825'] 1 3\n",
      "68 ['8.2532', '7.9388', '4.7198'] 1 3\n",
      "99 ['8.5839', '8.8262', '5.9282'] 2 1\n",
      "100 ['17.5285', '1.4180', '12.2175'] 1 2\n",
      "109 ['16.2419', '3.1025', '14.2964'] 2 3\n",
      "119 ['16.6740', '-1.4397', '10.6692'] 2 3\n",
      "175 ['14.7614', '1.3415', '9.4460'] 2 3\n",
      "186 ['18.2975', '2.6378', '11.9994'] 2 3\n",
      "199 ['15.1319', '0.9429', '12.2790'] 3 2\n",
      "200 ['1.8164', '4.9567', '1.9919'] 2 3\n",
      "96.66666666666667\n"
     ]
    }
   ],
   "source": [
    "file = open('Test.txt','r')\n",
    "data_test = file.readlines()\n",
    "file.close()\n",
    "\n",
    "right = 0\n",
    "wrong = 0\n",
    "\n",
    "for idx in range(len(data_test)):\n",
    "    items = data_test[idx].split()\n",
    "    features = items[:-1]\n",
    "    class_type = items[-1]\n",
    "    max_prob = 0.0\n",
    "    max_class = 0\n",
    "    \n",
    "    for i in range(class_count):\n",
    "        total_prob = 1.0\n",
    "        \n",
    "        # naive bayes formulae\n",
    "        for j in range(feature_count):\n",
    "            total_prob = total_prob * gaussian_pdf(float(features[j]), mean[i][j], variance[i][j])\n",
    "        \n",
    "        # total probability\n",
    "        total_prob = total_prob * (len(category_list[i])/entry_count)\n",
    "        \n",
    "        if max_prob < total_prob:\n",
    "            max_prob = total_prob\n",
    "            max_class = i + 1\n",
    "#             print(idx, max_prob, total_prob, max_class, class_type)    \n",
    "            \n",
    "        \n",
    "    if max_class == int(class_type):\n",
    "        right += 1\n",
    "    else:\n",
    "        wrong += 1\n",
    "        print(idx,features,class_type,max_class)\n",
    "\n",
    "\n",
    "accuracy = right/(right+wrong)\n",
    "print(accuracy*100,'%')"
   ]
  },
  {
   "cell_type": "code",
   "execution_count": null,
   "metadata": {},
   "outputs": [],
   "source": []
  }
 ],
 "metadata": {
  "kernelspec": {
   "display_name": "Python 3",
   "language": "python",
   "name": "python3"
  },
  "language_info": {
   "codemirror_mode": {
    "name": "ipython",
    "version": 3
   },
   "file_extension": ".py",
   "mimetype": "text/x-python",
   "name": "python",
   "nbconvert_exporter": "python",
   "pygments_lexer": "ipython3",
   "version": "3.7.4"
  }
 },
 "nbformat": 4,
 "nbformat_minor": 2
}
