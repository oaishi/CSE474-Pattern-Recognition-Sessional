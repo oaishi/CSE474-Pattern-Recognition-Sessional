{
 "cells": [
  {
   "cell_type": "code",
   "execution_count": 1,
   "metadata": {},
   "outputs": [],
   "source": [
    "import numpy as np\n",
    "np.random.seed(0) \n",
    "\n",
    "from scipy.stats import multivariate_normal\n",
    "def get_Data(filename):\n",
    "    with open(filename) as f:\n",
    "        return f.readlines()[0]\n",
    "\n",
    "def get_params(filename):\n",
    "    with open(filename) as f:\n",
    "        all_lines = f.readlines()\n",
    "        h = all_lines[0].strip().split()\n",
    "        h = np.array(h).astype(np.float)\n",
    "        variance = float(all_lines[-1].strip())\n",
    "        sigma = np.sqrt(variance) \n",
    "        return h, sigma\n",
    "\n",
    "train_data = get_Data('train.txt')\n",
    "\n",
    "test_data = get_Data('test.txt')\n",
    "\n",
    "h, sigma = get_params('parameters.txt')"
   ]
  },
  {
   "cell_type": "code",
   "execution_count": 2,
   "metadata": {},
   "outputs": [],
   "source": [
    "n = 2\n",
    "l = 2\n",
    "cluster_count = 8   \n",
    "\n",
    "bits_map_mean = [[] for _ in range(cluster_count)]\n",
    "\n",
    "bits_map_covar = [[] for _ in range(cluster_count)]\n",
    "\n",
    "bits_map_prior =  np.zeros(cluster_count)\n",
    "\n",
    "bits_map_zero_trans =  np.zeros(cluster_count)\n",
    "\n",
    "bits_map_one_trans =  np.zeros(cluster_count)\n",
    "\n",
    "cluster_bits = {\n",
    "    0: '000', 1: '001', 2: '010', 3: '011', 4: '100', 5: '101', 6: '110', 7: '111'\n",
    "}\n",
    "\n",
    "cluster_mapper = {\n",
    "    '000': 0, '001': 1, '010': 2, '011': 3, '100': 4, '101': 5, '110': 6, '111': 7\n",
    "}\n"
   ]
  },
  {
   "cell_type": "code",
   "execution_count": 3,
   "metadata": {},
   "outputs": [],
   "source": [
    "def distortion_val(I_k):\n",
    "    return (int(I_k[0]) * h[0] + int(I_k[1]) * h[1] + np.random.normal(0, sigma, 1))[0]"
   ]
  },
  {
   "cell_type": "code",
   "execution_count": 4,
   "metadata": {},
   "outputs": [],
   "source": [
    "def Distorted_Signal(I):\n",
    "    bits_map_members = [[] for _ in range(cluster_count)]\n",
    "    signal_len = len(I)\n",
    "    x = np.zeros([signal_len])\n",
    "    x[0] = int(I[0]) * h[1] + np.random.normal(0, sigma, 1) \n",
    "    \n",
    "    for i in range(n, signal_len+1):\n",
    "        I_vec = I[i-n: i]\n",
    "        x[i-1] = distortion_val(I_vec)\n",
    "        if (i-3) > 0:\n",
    "            cur_val = I[i-3: i]\n",
    "            cur_cluster = cluster_mapper[cur_val]\n",
    "            bits_map_members[cur_cluster] += [x[i-l: i]]\n",
    "            if i < signal_len:\n",
    "                #ToDo:cluster_to_cluster_probability\n",
    "                if (I[i] == '0'):\n",
    "                    bits_map_zero_trans[cur_cluster] += 1\n",
    "                elif (I[i] == '1'):\n",
    "                    bits_map_one_trans[cur_cluster] += 1\n",
    "                    \n",
    "        \n",
    "    for cur_cluster in range(cluster_count):\n",
    "        #cur_cluster = bits_map_to_w[I_temp]\n",
    "        bits_map_members[cur_cluster] = np.array(bits_map_members[cur_cluster])\n",
    "        #print(bits_map_members[cur_cluster].shape)\n",
    "        bits_map_mean[cur_cluster] = bits_map_members[cur_cluster].mean(0)\n",
    "        bits_map_covar[cur_cluster] = np.cov(bits_map_members[cur_cluster].T)\n",
    "        #set_prior_probablity\n",
    "        bits_map_prior[cur_cluster] = bits_map_members[cur_cluster].shape[0] / (signal_len - n + 1)\n",
    "        \n",
    "        bits_map_one_trans[cur_cluster] = bits_map_one_trans[cur_cluster]/(bits_map_zero_trans[cur_cluster] + bits_map_one_trans[cur_cluster])\n",
    "        bits_map_zero_trans[cur_cluster] = 1. - bits_map_one_trans[cur_cluster]\n",
    "        \n",
    "#         print(w_to_bits_map[cur_cluster], ':', bits_map_members[cur_cluster],\n",
    "#              bits_map_mean[cur_cluster],bits_map_covar[cur_cluster],bits_map_prior[cur_cluster],\n",
    "#              bits_map_zero_trans[cur_cluster], bits_map_one_trans[cur_cluster])\n",
    "        \n",
    "    return x"
   ]
  },
  {
   "cell_type": "code",
   "execution_count": 5,
   "metadata": {
    "scrolled": true
   },
   "outputs": [],
   "source": [
    "x = Distorted_Signal(I=train_data)"
   ]
  },
  {
   "cell_type": "code",
   "execution_count": 6,
   "metadata": {},
   "outputs": [],
   "source": [
    "def Method_1(w_i, w_i_prev, x_bar_k):\n",
    "    # eq 5\n",
    "    p_w = 0.\n",
    "    if w_i_prev is None:  \n",
    "        p_w = bits_map_prior[w_i] \n",
    "    # eq 4    \n",
    "    elif cluster_bits[w_i][1:] == cluster_bits[w_i_prev][:-1]: \n",
    "        if cluster_bits[w_i][0] == '0':\n",
    "            p_w = bits_map_zero_trans[w_i]\n",
    "        else:\n",
    "            p_w = bits_map_one_trans[w_i] \n",
    "            \n",
    "    # conditional probability\n",
    "    p_x_w = multivariate_normal.pdf(x_bar_k, mean=bits_map_mean[w_i], cov=bits_map_covar[w_i])     \n",
    "    \n",
    "    # to dismiss dbz\n",
    "    return np.log((p_w * p_x_w)+np.finfo(float).eps) \n",
    "\n",
    "def Method_2(w_i, x_bar_k):\n",
    "    # eq 6\n",
    "    return np.linalg.norm(x_bar_k - bits_map_mean[w_i]) "
   ]
  },
  {
   "cell_type": "code",
   "execution_count": 7,
   "metadata": {},
   "outputs": [],
   "source": [
    "def file_save(filename, input_val):\n",
    "    f = open(filename, \"w\")\n",
    "    f.write(input_val)\n",
    "    f.close()"
   ]
  },
  {
   "cell_type": "code",
   "execution_count": 8,
   "metadata": {},
   "outputs": [],
   "source": [
    "def Method_1_run(I, train_data): \n",
    "    \n",
    "    signal_len = len(I) \n",
    "    x = np.zeros([signal_len])\n",
    "    x[0] = int(I[0]) * h[1] + np.random.normal(0, sigma, 1) \n",
    "    \n",
    "    cost_matrix = np.zeros([signal_len, cluster_count])\n",
    "    parents = np.zeros([signal_len, cluster_count]).astype(int)\n",
    "    \n",
    "    \n",
    "    for i in range(1, signal_len): \n",
    "        I_vec = I[i-n+1 : i+1]\n",
    "        x[i] = distortion_val(I_vec)\n",
    "        x_bar_k = x[i-1 : i+1]\n",
    "        \n",
    "        for j in range(cluster_count):\n",
    "            temp = []\n",
    "            for k in range(cluster_count):\n",
    "                w_i_prev = None\n",
    "                if i != 1:\n",
    "                    w_i_prev = k\n",
    "                temp.append(cost_matrix[i-1, k] + Method_1(w_i=j, w_i_prev=w_i_prev, x_bar_k=x_bar_k))\n",
    "            \n",
    "            best_succesor = np.argmax(temp)\n",
    "            cost_matrix[i, j] = temp[best_succesor]\n",
    "            parents[i, j] = best_succesor\n",
    "    \n",
    "    decoded_class = []\n",
    "    last_bit = cost_matrix[-1].argmax()\n",
    "    decoded_class.insert(0,last_bit)\n",
    "    parent = parents[-1, last_bit]\n",
    "\n",
    "    for i in range(cost_matrix.shape[0]-1, 0, -1):\n",
    "        decoded_class.insert(0,parent)\n",
    "        parent = parents[i, decoded_class[0]]\n",
    "        \n",
    "    correct = 0\n",
    "    inferred_bits = ''\n",
    "    for i in range(cost_matrix.shape[0]):\n",
    "        inferred_bits+=(cluster_bits[decoded_class[i]][-1])\n",
    "        if cluster_bits[decoded_class[i]][-1] == train_data[i]:\n",
    "            correct += 1\n",
    "    \n",
    "    print(\"accuracy:\",(100*correct)/cost_matrix.shape[0])\n",
    "    file_save(\"out1.txt\",inferred_bits)"
   ]
  },
  {
   "cell_type": "code",
   "execution_count": 9,
   "metadata": {},
   "outputs": [
    {
     "name": "stdout",
     "output_type": "stream",
     "text": [
      "accuracy: 54.0\n"
     ]
    }
   ],
   "source": [
    "Method_1_run(test_data, train_data)"
   ]
  },
  {
   "cell_type": "code",
   "execution_count": 10,
   "metadata": {},
   "outputs": [],
   "source": [
    "def Method_2_run(I, train_data): \n",
    "    signal_len = len(I) \n",
    "    x = np.zeros([signal_len])\n",
    "    x[0] = int(I[0]) * h[1] + np.random.normal(0, sigma, 1) # as there is no k-1 in this case\n",
    "    \n",
    "    decoded_class = ['0',]\n",
    "    for i in range(n, signal_len+1):\n",
    "        I_vec = I[i-n: i]\n",
    "        x[i-1] = distortion_val(I_vec)\n",
    "        x_bar_k = x[i-l: i]\n",
    "        \n",
    "        d_val = []\n",
    "        for j in range(cluster_count):\n",
    "            d_w_k = Method_2(j, x_bar_k)\n",
    "            d_val.append(d_w_k)\n",
    "            \n",
    "        best_cluster = np.argmin(d_val)        \n",
    "        decoded_class.append(cluster_bits[best_cluster][-1])\n",
    "        \n",
    "    correct = 0\n",
    "    for i in range(len(decoded_class)):\n",
    "        if decoded_class[i] == train_data[i]:\n",
    "            correct += 1\n",
    "    \n",
    "    print(\"accuracy:\",(100*correct)/len(decoded_class))\n",
    "    file_save(\"out2.txt\",''.join(decoded_class))"
   ]
  },
  {
   "cell_type": "code",
   "execution_count": 11,
   "metadata": {
    "scrolled": false
   },
   "outputs": [
    {
     "name": "stdout",
     "output_type": "stream",
     "text": [
      "accuracy: 99.0\n"
     ]
    }
   ],
   "source": [
    "Method_2_run(test_data, train_data)"
   ]
  },
  {
   "cell_type": "code",
   "execution_count": null,
   "metadata": {},
   "outputs": [],
   "source": []
  }
 ],
 "metadata": {
  "kernelspec": {
   "display_name": "Python 3",
   "language": "python",
   "name": "python3"
  },
  "language_info": {
   "codemirror_mode": {
    "name": "ipython",
    "version": 3
   },
   "file_extension": ".py",
   "mimetype": "text/x-python",
   "name": "python",
   "nbconvert_exporter": "python",
   "pygments_lexer": "ipython3",
   "version": "3.7.4"
  }
 },
 "nbformat": 4,
 "nbformat_minor": 2
}
