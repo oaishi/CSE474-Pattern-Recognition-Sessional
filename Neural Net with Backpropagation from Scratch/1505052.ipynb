{
 "cells": [
  {
   "cell_type": "code",
   "execution_count": 1,
   "metadata": {
    "scrolled": true
   },
   "outputs": [],
   "source": [
    "import numpy as np\n",
    "import random\n",
    "import math\n",
    "\n",
    "def dataloader(filename, mean = None, std = None, split=\"train\"):\n",
    "    with open(filename) as f:\n",
    "        all_data = f.readlines()\n",
    "        np_data = []\n",
    "        for each_data in all_data:\n",
    "            per_elem = []\n",
    "            for col in each_data.split():\n",
    "                per_elem.append(float(col))\n",
    "            np_data.append(per_elem)\n",
    "                \n",
    "        np_data = np.array(np_data)\n",
    "        features = np_data[:, :-1]\n",
    "        \n",
    "        if mean is None:\n",
    "            mean, std = features.mean((0)), features.std((0))\n",
    "        \n",
    "        features = (features - mean) / std\n",
    "        \n",
    "        labels = np_data[:, -1] - 1\n",
    "        unique_labels = np.unique(labels)\n",
    "        \n",
    "        if split == \"train\":\n",
    "            # one-hot creation\n",
    "           \n",
    "            one_hot_label_vector = []\n",
    "            \n",
    "            for each_data in labels:\n",
    "                y_actual = np.zeros([unique_labels.shape[0]])\n",
    "                y_actual[int(each_data)] = 1   \n",
    "                one_hot_label_vector.append(y_actual)\n",
    "\n",
    "            \n",
    "            return features, one_hot_label_vector, features.shape[1], unique_labels.shape[0], features.shape[0], mean, std\n",
    "        else:\n",
    "            return features, labels, features.shape[0]"
   ]
  },
  {
   "cell_type": "code",
   "execution_count": 2,
   "metadata": {},
   "outputs": [],
   "source": [
    "class NN:\n",
    "    \n",
    "    def __init__(self, layer_num, node_num, feature_num, label_num, mu=0.9, alpha=1.):\n",
    "        self.alpha, self.mu, self.feature_num, self.label_num = alpha, mu, feature_num, label_num\n",
    "        self.layer_num = layer_num + 1\n",
    "        self.f_x = np.vectorize(self.logit) # logit\n",
    "        \n",
    "        self.weight = []\n",
    "        self.weight.append(np.random.rand(self.feature_num+1, node_num))\n",
    "        \n",
    "        for i in range(layer_num-1):\n",
    "            self.weight.append(np.random.rand(node_num+1, node_num)) # weight matrix of size nodes_in_prev_layer+1 * next_layer\n",
    "        self.weight.append(np.random.rand(node_num+1, self.label_num))\n",
    "        \n",
    "        if ((layer_num+1) != len(self.weight)):\n",
    "            print(\"error!\")\n",
    "            exit()              \n",
    "       \n",
    "    \n",
    "    def logit(self, x):\n",
    "        return 1 / (1 + math.exp(-1 * self.alpha * x)) # eq 4.1   \n",
    "    \n",
    "    def f_hat_x(self, f_x):\n",
    "        return self.alpha * f_x * (1 - f_x) \n",
    "    \n",
    "    def forward(self, x):\n",
    "        \n",
    "        self.y = []        \n",
    "        y_k = np.ones([self.feature_num+1])\n",
    "        y_k[:-1] = x\n",
    "        \n",
    "        for w_k in self.weight:#eqn4.7\n",
    "            v_r = np.dot(w_k.T, y_k)\n",
    "            y_k = np.ones([w_k.shape[1]+1])\n",
    "            y_k[:-1] = self.f_x(v_r)\n",
    "            self.y.append(y_k[:-1])\n",
    "    \n",
    "    def backward(self, y_actual):\n",
    "        e_k = self.y[-1] - y_actual #eq: 4.14\n",
    "        self.delta_j = []\n",
    "        \n",
    "        for k in reversed(list(range(self.layer_num))):\n",
    "            \n",
    "            delta_k = e_k * self.f_hat_x(self.y[k]) #eqn 4.22\n",
    "            self.delta_j.append(np.copy(delta_k))\n",
    "            \n",
    "            w_k = self.weight[k]\n",
    "            e_k = np.dot(w_k, delta_k)[:-1] #eqn 4.23\n",
    "            \n",
    "        self.delta_j.reverse()\n",
    "        \n",
    "    def update(self, x):\n",
    "        \n",
    "        self.del_wj = [np.zeros(self.weight[r].shape) for r in range(self.layer_num)]        \n",
    "        y_r_prev = np.ones([self.feature_num+1])\n",
    "        y_r_prev[:-1] = x\n",
    "        \n",
    "        for i in range(self.layer_num): \n",
    "            self.del_wj[i] = self.del_wj[i] + np.dot(y_r_prev[..., np.newaxis], self.delta_j[i][np.newaxis, ...]) \n",
    "            self.weight[i] = self.weight[i] - self.mu * self.del_wj[i] \n",
    "            \n",
    "            y_r_prev = np.ones([self.weight[i].shape[1] + 1])\n",
    "            y_r_prev[:-1] = self.y[i]\n",
    "             \n",
    "    "
   ]
  },
  {
   "cell_type": "code",
   "execution_count": 3,
   "metadata": {},
   "outputs": [],
   "source": [
    "def Training_Helper(NN, all_train_features, all_train_labels):\n",
    "\n",
    "    for feature, y_actual in zip(all_train_features, all_train_labels):\n",
    "        NN.forward(x=feature)\n",
    "        NN.backward(y_actual=y_actual)\n",
    "        NN.update(x=feature)\n",
    "\n",
    "\n",
    "def Test_Helper(NN, all_test_features, all_test_labels):\n",
    "    final_str = \"\"\n",
    "    total = all_test_features.shape[0]\n",
    "    correct = 0\n",
    "    \n",
    "    for iter, (feature, y_actual) in enumerate(zip(all_test_features, all_test_labels)):\n",
    "        \n",
    "        NN.forward(x=feature)\n",
    "        y_pred = (NN.y[-1]).argmax()\n",
    "        \n",
    "        if int(y_actual) == y_pred:\n",
    "            correct += 1\n",
    "        else:\n",
    "            final_str += \"sample no:\" + str(iter) + \" actual class:\" +str(y_actual) + \" predicted class:\" + str(y_pred) + '\\n'\n",
    "        \n",
    "    return final_str, 100 * correct / total"
   ]
  },
  {
   "cell_type": "code",
   "execution_count": 4,
   "metadata": {},
   "outputs": [
    {
     "name": "stdout",
     "output_type": "stream",
     "text": [
      "Total Accuracy: 100.0 %\n"
     ]
    }
   ],
   "source": [
    "features_train, train_label_vector, feature_num, label_num, total_samples_train, mean, std = dataloader(filename='trainNN.txt')\n",
    "NN_callable = NN(layer_num=2, node_num=5, feature_num=feature_num, label_num=label_num)\n",
    "\n",
    "epoch_no = 100\n",
    "features_test, labels_test, total_samples_test = dataloader(filename='testNN.txt', mean=mean, std=std, split=\"test\")\n",
    "\n",
    "best_accuracy = 0\n",
    "for i in range(epoch_no):\n",
    "    \n",
    "    Training_Helper(NN_callable, all_train_features=features_train, all_train_labels=train_label_vector)\n",
    "    _, test_accuracy = Test_Helper(NN_callable, all_test_features=features_test, all_test_labels=labels_test)\n",
    "    if test_accuracy > best_accuracy:\n",
    "        best_accuracy = test_accuracy    \n",
    "    \n",
    "    if best_accuracy == 100.0:\n",
    "        break\n",
    "    \n",
    "print(\"Total Accuracy:\", best_accuracy,\"%\")    \n"
   ]
  },
  {
   "cell_type": "code",
   "execution_count": 5,
   "metadata": {},
   "outputs": [
    {
     "name": "stdout",
     "output_type": "stream",
     "text": [
      "\n"
     ]
    }
   ],
   "source": [
    "error_report, accuracy = Test_Helper(NN_callable, all_test_features =features_test, all_test_labels=labels_test)\n",
    "print(error_report)\n",
    "\n",
    "file_handle = open(\"error.txt\", \"w\")\n",
    "file_handle.write(error_report)\n",
    "file_handle.close()"
   ]
  },
  {
   "cell_type": "code",
   "execution_count": 6,
   "metadata": {
    "scrolled": true
   },
   "outputs": [
    {
     "name": "stdout",
     "output_type": "stream",
     "text": [
      "no. of layers: 2 no. of nodes/layer: 9 accuracy: 100.0\n",
      "no. of layers: 2 no. of nodes/layer: 7 accuracy: 100.0\n",
      "no. of layers: 4 no. of nodes/layer: 7 accuracy: 100.0\n",
      "no. of layers: 1 no. of nodes/layer: 7 accuracy: 100.0\n",
      "no. of layers: 2 no. of nodes/layer: 2 accuracy: 100.0\n",
      "no. of layers: 3 no. of nodes/layer: 7 accuracy: 100.0\n",
      "no. of layers: 3 no. of nodes/layer: 4 accuracy: 100.0\n",
      "no. of layers: 4 no. of nodes/layer: 1 accuracy: 31.4\n",
      "no. of layers: 3 no. of nodes/layer: 8 accuracy: 100.0\n",
      "no. of layers: 4 no. of nodes/layer: 9 accuracy: 100.0\n"
     ]
    }
   ],
   "source": [
    "features_train, train_label_vector, feature_num, label_num, total_samples_train, mean, std = dataloader(filename='trainNNeval.txt')\n",
    "features_test, labels_test, total_samples_test = dataloader(filename='testNNeval.txt', mean=mean, std=std, split=\"test\")\n",
    "\n",
    "\n",
    "layer=(np.random.randint(1,5, size=(10)))\n",
    "nodes=(np.random.randint(1,10, size=(10)))\n",
    "\n",
    "report_str = \" \"\n",
    "for each_comb in zip(layer,nodes):\n",
    "        \n",
    "    NN_callable = NN(layer_num=each_comb[0], node_num=each_comb[1], feature_num=feature_num, label_num=label_num)\n",
    "\n",
    "    epoch_no = 100\n",
    "\n",
    "    best_accuracy = 0\n",
    "    for i in range(epoch_no):\n",
    "        Training_Helper(NN_callable, all_train_features=features_train, all_train_labels=train_label_vector)\n",
    "        _, test_accuracy = Test_Helper(NN_callable, all_test_features=features_test, all_test_labels=labels_test)\n",
    "        if test_accuracy > best_accuracy:\n",
    "            best_accuracy = test_accuracy    \n",
    "\n",
    "        if best_accuracy == 100.0:\n",
    "            break\n",
    "            \n",
    "#     print(\"Total Accuracy:\", best_accuracy,\"%\")    \n",
    "\n",
    "    _, accuracy = Test_Helper(NN_callable, all_test_features =features_test, all_test_labels=labels_test)\n",
    "    print(\"no. of layers:\",each_comb[0], \"no. of nodes/layer:\",each_comb[1] ,\"accuracy:\",accuracy) \n",
    "    report_str += '\\n' + str(each_comb[0]) + \"    \" + str(each_comb[1]) + \"    \" + str(accuracy) \n",
    "file_handle = open(\"1505052.txt\", \"w\")\n",
    "file_handle.write(report_str)\n",
    "file_handle.close()"
   ]
  },
  {
   "cell_type": "code",
   "execution_count": null,
   "metadata": {},
   "outputs": [],
   "source": []
  }
 ],
 "metadata": {
  "kernelspec": {
   "display_name": "Python 3",
   "language": "python",
   "name": "python3"
  },
  "language_info": {
   "codemirror_mode": {
    "name": "ipython",
    "version": 3
   },
   "file_extension": ".py",
   "mimetype": "text/x-python",
   "name": "python",
   "nbconvert_exporter": "python",
   "pygments_lexer": "ipython3",
   "version": "3.6.4"
  }
 },
 "nbformat": 4,
 "nbformat_minor": 2
}
